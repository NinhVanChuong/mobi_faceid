{
 "cells": [
  {
   "cell_type": "code",
   "execution_count": 1,
   "id": "1790fd09-e1d6-4f23-9716-7aaebbb3392d",
   "metadata": {},
   "outputs": [],
   "source": [
    "import requests\n",
    "import base64\n",
    "from requests.auth import HTTPDigestAuth\n",
    "# Device credentials\n",
    "device_ip = \"10.40.55.11\"\n",
    "username = \"admin\"\n",
    "password = \"mobifone24\"\n",
    "employeeNo = '11'\n",
    "# # Encode credentials for Basic Authentication\n",
    "# auth = base64.b64encode(f\"{username}:{password}\".encode()).decode()\n",
    "\n",
    "# # API endpoint\n",
    "# url = f\"http://{device_ip}/ISAPI/AccessControl/UserInfo/Record?format=json\"\n",
    "\n",
    "# # Request headers\n",
    "# headers = {\n",
    "#     # \"Authorization\": f\"Basic {auth}\",\n",
    "#     \"Content-Type\": \"application/json\"\n",
    "# }\n",
    "\n",
    "# # Person data\n",
    "# payload = {\n",
    "#     \"UserInfo\": {\n",
    "#         \"employeeNo\": employeeNo,\n",
    "#         \"name\": \"John Doe\",\n",
    "#         \"userType\": \"normal\",\n",
    "#         \"Valid\": {\n",
    "#             \"enable\": True,\n",
    "#             \"beginTime\": \"2025-01-01T00:00:00\",\n",
    "#             \"endTime\": \"2030-01-01T23:59:59\"\n",
    "#         }\n",
    "#     }\n",
    "# }\n",
    "\n",
    "# # Send request\n",
    "# response = requests.post(url, headers=headers,auth=HTTPDigestAuth('admin', 'mobifone24') ,json=payload)\n",
    "\n",
    "# # Check response\n",
    "# if response.status_code == 200:\n",
    "#     print(\"Person added successfully!\")\n",
    "# else:\n",
    "#     print(f\"Error: {response.status_code}, {response.text}\")\n"
   ]
  },
  {
   "cell_type": "code",
   "execution_count": 2,
   "id": "32c21595-7f87-4e6e-b70d-b3dfaab54970",
   "metadata": {},
   "outputs": [
    {
     "ename": "FileNotFoundError",
     "evalue": "[Errno 2] No such file or directory: '../data/photo_2024-12-26_11-14-08.jpg'",
     "output_type": "error",
     "traceback": [
      "\u001b[1;31m---------------------------------------------------------------------------\u001b[0m",
      "\u001b[1;31mFileNotFoundError\u001b[0m                         Traceback (most recent call last)",
      "Cell \u001b[1;32mIn[2], line 6\u001b[0m\n\u001b[0;32m      4\u001b[0m image_path \u001b[38;5;241m=\u001b[39m \u001b[38;5;124m\"\u001b[39m\u001b[38;5;124m../data/photo_2024-12-26_11-14-08.jpg\u001b[39m\u001b[38;5;124m\"\u001b[39m\n\u001b[0;32m      5\u001b[0m payload \u001b[38;5;241m=\u001b[39m {\u001b[38;5;124m'\u001b[39m\u001b[38;5;124mFaceDataRecord\u001b[39m\u001b[38;5;124m'\u001b[39m: \u001b[38;5;124m'\u001b[39m\u001b[38;5;124m{\u001b[39m\u001b[38;5;124m\"\u001b[39m\u001b[38;5;124mfaceLibType\u001b[39m\u001b[38;5;124m\"\u001b[39m\u001b[38;5;124m:\u001b[39m\u001b[38;5;124m\"\u001b[39m\u001b[38;5;124mblackFD\u001b[39m\u001b[38;5;124m\"\u001b[39m\u001b[38;5;124m,\u001b[39m\u001b[38;5;124m\"\u001b[39m\u001b[38;5;124mFDID\u001b[39m\u001b[38;5;124m\"\u001b[39m\u001b[38;5;124m:\u001b[39m\u001b[38;5;124m\"\u001b[39m\u001b[38;5;124m1\u001b[39m\u001b[38;5;124m\"\u001b[39m\u001b[38;5;124m,\u001b[39m\u001b[38;5;124m\"\u001b[39m\u001b[38;5;124mFPID\u001b[39m\u001b[38;5;124m\"\u001b[39m\u001b[38;5;124m:\u001b[39m\u001b[38;5;124m\"\u001b[39m\u001b[38;5;124m'\u001b[39m\u001b[38;5;241m+\u001b[39memployeeNo\u001b[38;5;241m+\u001b[39m\u001b[38;5;124m'\u001b[39m\u001b[38;5;124m\"\u001b[39m\u001b[38;5;124m}\u001b[39m\u001b[38;5;124m'\u001b[39m}\n\u001b[1;32m----> 6\u001b[0m \u001b[38;5;28;01mwith\u001b[39;00m \u001b[38;5;28;43mopen\u001b[39;49m\u001b[43m(\u001b[49m\u001b[43mimage_path\u001b[49m\u001b[43m,\u001b[49m\u001b[43m \u001b[49m\u001b[38;5;124;43m\"\u001b[39;49m\u001b[38;5;124;43mrb\u001b[39;49m\u001b[38;5;124;43m\"\u001b[39;49m\u001b[43m)\u001b[49m \u001b[38;5;28;01mas\u001b[39;00m image_file:\n\u001b[0;32m      7\u001b[0m     files\u001b[38;5;241m=\u001b[39m[\n\u001b[0;32m      8\u001b[0m       (\u001b[38;5;124m'\u001b[39m\u001b[38;5;124mimg\u001b[39m\u001b[38;5;124m'\u001b[39m,(\u001b[38;5;124m'\u001b[39m\u001b[38;5;124mphoto_2024-12-26_11-14-08.jpg\u001b[39m\u001b[38;5;124m'\u001b[39m,image_file,\u001b[38;5;124m'\u001b[39m\u001b[38;5;124mimage/jpeg\u001b[39m\u001b[38;5;124m'\u001b[39m))\n\u001b[0;32m      9\u001b[0m     ]\n\u001b[0;32m     10\u001b[0m     headers \u001b[38;5;241m=\u001b[39m {}\n",
      "File \u001b[1;32m~\\miniconda3\\envs\\DataScience\\lib\\site-packages\\IPython\\core\\interactiveshell.py:324\u001b[0m, in \u001b[0;36m_modified_open\u001b[1;34m(file, *args, **kwargs)\u001b[0m\n\u001b[0;32m    317\u001b[0m \u001b[38;5;28;01mif\u001b[39;00m file \u001b[38;5;129;01min\u001b[39;00m {\u001b[38;5;241m0\u001b[39m, \u001b[38;5;241m1\u001b[39m, \u001b[38;5;241m2\u001b[39m}:\n\u001b[0;32m    318\u001b[0m     \u001b[38;5;28;01mraise\u001b[39;00m \u001b[38;5;167;01mValueError\u001b[39;00m(\n\u001b[0;32m    319\u001b[0m         \u001b[38;5;124mf\u001b[39m\u001b[38;5;124m\"\u001b[39m\u001b[38;5;124mIPython won\u001b[39m\u001b[38;5;124m'\u001b[39m\u001b[38;5;124mt let you open fd=\u001b[39m\u001b[38;5;132;01m{\u001b[39;00mfile\u001b[38;5;132;01m}\u001b[39;00m\u001b[38;5;124m by default \u001b[39m\u001b[38;5;124m\"\u001b[39m\n\u001b[0;32m    320\u001b[0m         \u001b[38;5;124m\"\u001b[39m\u001b[38;5;124mas it is likely to crash IPython. If you know what you are doing, \u001b[39m\u001b[38;5;124m\"\u001b[39m\n\u001b[0;32m    321\u001b[0m         \u001b[38;5;124m\"\u001b[39m\u001b[38;5;124myou can use builtins\u001b[39m\u001b[38;5;124m'\u001b[39m\u001b[38;5;124m open.\u001b[39m\u001b[38;5;124m\"\u001b[39m\n\u001b[0;32m    322\u001b[0m     )\n\u001b[1;32m--> 324\u001b[0m \u001b[38;5;28;01mreturn\u001b[39;00m io_open(file, \u001b[38;5;241m*\u001b[39margs, \u001b[38;5;241m*\u001b[39m\u001b[38;5;241m*\u001b[39mkwargs)\n",
      "\u001b[1;31mFileNotFoundError\u001b[0m: [Errno 2] No such file or directory: '../data/photo_2024-12-26_11-14-08.jpg'"
     ]
    }
   ],
   "source": [
    "import requests\n",
    "\n",
    "url = \"http://10.40.55.11/ISAPI/Intelligent/FDLib/FaceDataRecord?format=json\"\n",
    "image_path = \"../data/photo_2024-12-26_11-14-08.jpg\"\n",
    "payload = {'FaceDataRecord': '{\"faceLibType\":\"blackFD\",\"FDID\":\"1\",\"FPID\":\"'+employeeNo+'\"}'}\n",
    "with open(image_path, \"rb\") as image_file:\n",
    "    files=[\n",
    "      ('img',('photo_2024-12-26_11-14-08.jpg',image_file,'image/jpeg'))\n",
    "    ]\n",
    "    headers = {}\n",
    "    \n",
    "    response = requests.request(\"POST\", url, headers=headers,auth=HTTPDigestAuth('admin', 'mobifone24'), data=payload, files=files)\n",
    "\n",
    "print(response.text)\n",
    "\n"
   ]
  },
  {
   "cell_type": "code",
   "execution_count": 3,
   "id": "ab8f1e14-1afc-484d-8a95-4bf1d09ee39b",
   "metadata": {},
   "outputs": [
    {
     "ename": "NameError",
     "evalue": "name 'payload' is not defined",
     "output_type": "error",
     "traceback": [
      "\u001b[1;31m---------------------------------------------------------------------------\u001b[0m",
      "\u001b[1;31mNameError\u001b[0m                                 Traceback (most recent call last)",
      "Cell \u001b[1;32mIn[3], line 1\u001b[0m\n\u001b[1;32m----> 1\u001b[0m \u001b[43mpayload\u001b[49m\n",
      "\u001b[1;31mNameError\u001b[0m: name 'payload' is not defined"
     ]
    }
   ],
   "source": [
    "payload"
   ]
  },
  {
   "cell_type": "code",
   "execution_count": null,
   "id": "918bc24e-c979-4374-9bf1-3a169afce543",
   "metadata": {},
   "outputs": [],
   "source": []
  }
 ],
 "metadata": {
  "kernelspec": {
   "display_name": "Python 3 (ipykernel)",
   "language": "python",
   "name": "python3"
  },
  "language_info": {
   "codemirror_mode": {
    "name": "ipython",
    "version": 3
   },
   "file_extension": ".py",
   "mimetype": "text/x-python",
   "name": "python",
   "nbconvert_exporter": "python",
   "pygments_lexer": "ipython3",
   "version": "3.10.13"
  }
 },
 "nbformat": 4,
 "nbformat_minor": 5
}
