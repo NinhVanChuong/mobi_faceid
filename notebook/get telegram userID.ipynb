{
 "cells": [
  {
   "cell_type": "code",
   "execution_count": 1,
   "id": "85afeba8-28c1-4f1b-9911-f911e24a8bc0",
   "metadata": {},
   "outputs": [],
   "source": [
    "import telegram\n",
    "telegram_bot_token='7699059550:AAH0ztiK7wb_dfayFD3yWhIapQBIpitIic0' #TTKDCNS_bot. \n",
    "telegram_bot = telegram.Bot(token=telegram_bot_token) "
   ]
  },
  {
   "cell_type": "code",
   "execution_count": 4,
   "id": "6d51f767-203f-4cd9-bbc2-ee6808d309c9",
   "metadata": {},
   "outputs": [
    {
     "ename": "BadRequest",
     "evalue": "Chat not found",
     "output_type": "error",
     "traceback": [
      "\u001b[1;31m---------------------------------------------------------------------------\u001b[0m",
      "\u001b[1;31mBadRequest\u001b[0m                                Traceback (most recent call last)",
      "Cell \u001b[1;32mIn[4], line 4\u001b[0m\n\u001b[0;32m      2\u001b[0m CHAT_ID \u001b[38;5;241m=\u001b[39m \u001b[38;5;241m7678999096\u001b[39m \u001b[38;5;66;03m#TrongDoVan\u001b[39;00m\n\u001b[0;32m      3\u001b[0m MESSAGE \u001b[38;5;241m=\u001b[39m \u001b[38;5;124m'\u001b[39m\u001b[38;5;124mHello from python-telegram-bot 13.7! 🚀\u001b[39m\u001b[38;5;124m'\u001b[39m\n\u001b[1;32m----> 4\u001b[0m \u001b[43mtelegram_bot\u001b[49m\u001b[38;5;241;43m.\u001b[39;49m\u001b[43msend_message\u001b[49m\u001b[43m(\u001b[49m\u001b[43mchat_id\u001b[49m\u001b[38;5;241;43m=\u001b[39;49m\u001b[43mCHAT_ID\u001b[49m\u001b[43m,\u001b[49m\u001b[43m \u001b[49m\u001b[43mtext\u001b[49m\u001b[38;5;241;43m=\u001b[39;49m\u001b[43mMESSAGE\u001b[49m\u001b[43m)\u001b[49m\n",
      "File \u001b[1;32m~\\miniconda3\\envs\\DataScience\\lib\\site-packages\\telegram\\bot.py:130\u001b[0m, in \u001b[0;36mlog.<locals>.decorator\u001b[1;34m(*args, **kwargs)\u001b[0m\n\u001b[0;32m    127\u001b[0m \u001b[38;5;129m@functools\u001b[39m\u001b[38;5;241m.\u001b[39mwraps(func)\n\u001b[0;32m    128\u001b[0m \u001b[38;5;28;01mdef\u001b[39;00m \u001b[38;5;21mdecorator\u001b[39m(\u001b[38;5;241m*\u001b[39margs: \u001b[38;5;28mobject\u001b[39m, \u001b[38;5;241m*\u001b[39m\u001b[38;5;241m*\u001b[39mkwargs: \u001b[38;5;28mobject\u001b[39m) \u001b[38;5;241m-\u001b[39m\u001b[38;5;241m>\u001b[39m RT:  \u001b[38;5;66;03m# pylint: disable=W0613\u001b[39;00m\n\u001b[0;32m    129\u001b[0m     logger\u001b[38;5;241m.\u001b[39mdebug(\u001b[38;5;124m'\u001b[39m\u001b[38;5;124mEntering: \u001b[39m\u001b[38;5;132;01m%s\u001b[39;00m\u001b[38;5;124m'\u001b[39m, func\u001b[38;5;241m.\u001b[39m\u001b[38;5;18m__name__\u001b[39m)\n\u001b[1;32m--> 130\u001b[0m     result \u001b[38;5;241m=\u001b[39m func(\u001b[38;5;241m*\u001b[39margs, \u001b[38;5;241m*\u001b[39m\u001b[38;5;241m*\u001b[39mkwargs)\n\u001b[0;32m    131\u001b[0m     logger\u001b[38;5;241m.\u001b[39mdebug(result)\n\u001b[0;32m    132\u001b[0m     logger\u001b[38;5;241m.\u001b[39mdebug(\u001b[38;5;124m'\u001b[39m\u001b[38;5;124mExiting: \u001b[39m\u001b[38;5;132;01m%s\u001b[39;00m\u001b[38;5;124m'\u001b[39m, func\u001b[38;5;241m.\u001b[39m\u001b[38;5;18m__name__\u001b[39m)\n",
      "File \u001b[1;32m~\\miniconda3\\envs\\DataScience\\lib\\site-packages\\telegram\\bot.py:513\u001b[0m, in \u001b[0;36mBot.send_message\u001b[1;34m(self, chat_id, text, parse_mode, disable_web_page_preview, disable_notification, reply_to_message_id, reply_markup, timeout, api_kwargs, allow_sending_without_reply, entities)\u001b[0m\n\u001b[0;32m    510\u001b[0m \u001b[38;5;28;01mif\u001b[39;00m entities:\n\u001b[0;32m    511\u001b[0m     data[\u001b[38;5;124m'\u001b[39m\u001b[38;5;124mentities\u001b[39m\u001b[38;5;124m'\u001b[39m] \u001b[38;5;241m=\u001b[39m [me\u001b[38;5;241m.\u001b[39mto_dict() \u001b[38;5;28;01mfor\u001b[39;00m me \u001b[38;5;129;01min\u001b[39;00m entities]\n\u001b[1;32m--> 513\u001b[0m \u001b[38;5;28;01mreturn\u001b[39;00m \u001b[38;5;28;43mself\u001b[39;49m\u001b[38;5;241;43m.\u001b[39;49m\u001b[43m_message\u001b[49m\u001b[43m(\u001b[49m\u001b[43m  \u001b[49m\u001b[38;5;66;43;03m# type: ignore[return-value]\u001b[39;49;00m\n\u001b[0;32m    514\u001b[0m \u001b[43m    \u001b[49m\u001b[38;5;124;43m'\u001b[39;49m\u001b[38;5;124;43msendMessage\u001b[39;49m\u001b[38;5;124;43m'\u001b[39;49m\u001b[43m,\u001b[49m\n\u001b[0;32m    515\u001b[0m \u001b[43m    \u001b[49m\u001b[43mdata\u001b[49m\u001b[43m,\u001b[49m\n\u001b[0;32m    516\u001b[0m \u001b[43m    \u001b[49m\u001b[43mdisable_notification\u001b[49m\u001b[38;5;241;43m=\u001b[39;49m\u001b[43mdisable_notification\u001b[49m\u001b[43m,\u001b[49m\n\u001b[0;32m    517\u001b[0m \u001b[43m    \u001b[49m\u001b[43mreply_to_message_id\u001b[49m\u001b[38;5;241;43m=\u001b[39;49m\u001b[43mreply_to_message_id\u001b[49m\u001b[43m,\u001b[49m\n\u001b[0;32m    518\u001b[0m \u001b[43m    \u001b[49m\u001b[43mreply_markup\u001b[49m\u001b[38;5;241;43m=\u001b[39;49m\u001b[43mreply_markup\u001b[49m\u001b[43m,\u001b[49m\n\u001b[0;32m    519\u001b[0m \u001b[43m    \u001b[49m\u001b[43mallow_sending_without_reply\u001b[49m\u001b[38;5;241;43m=\u001b[39;49m\u001b[43mallow_sending_without_reply\u001b[49m\u001b[43m,\u001b[49m\n\u001b[0;32m    520\u001b[0m \u001b[43m    \u001b[49m\u001b[43mtimeout\u001b[49m\u001b[38;5;241;43m=\u001b[39;49m\u001b[43mtimeout\u001b[49m\u001b[43m,\u001b[49m\n\u001b[0;32m    521\u001b[0m \u001b[43m    \u001b[49m\u001b[43mapi_kwargs\u001b[49m\u001b[38;5;241;43m=\u001b[39;49m\u001b[43mapi_kwargs\u001b[49m\u001b[43m,\u001b[49m\n\u001b[0;32m    522\u001b[0m \u001b[43m\u001b[49m\u001b[43m)\u001b[49m\n",
      "File \u001b[1;32m~\\miniconda3\\envs\\DataScience\\lib\\site-packages\\telegram\\bot.py:332\u001b[0m, in \u001b[0;36mBot._message\u001b[1;34m(self, endpoint, data, reply_to_message_id, disable_notification, reply_markup, allow_sending_without_reply, timeout, api_kwargs)\u001b[0m\n\u001b[0;32m    329\u001b[0m     \u001b[38;5;28;01melse\u001b[39;00m:\n\u001b[0;32m    330\u001b[0m         data[\u001b[38;5;124m'\u001b[39m\u001b[38;5;124mmedia\u001b[39m\u001b[38;5;124m'\u001b[39m]\u001b[38;5;241m.\u001b[39mparse_mode \u001b[38;5;241m=\u001b[39m \u001b[38;5;28;01mNone\u001b[39;00m\n\u001b[1;32m--> 332\u001b[0m result \u001b[38;5;241m=\u001b[39m \u001b[38;5;28;43mself\u001b[39;49m\u001b[38;5;241;43m.\u001b[39;49m\u001b[43m_post\u001b[49m\u001b[43m(\u001b[49m\u001b[43mendpoint\u001b[49m\u001b[43m,\u001b[49m\u001b[43m \u001b[49m\u001b[43mdata\u001b[49m\u001b[43m,\u001b[49m\u001b[43m \u001b[49m\u001b[43mtimeout\u001b[49m\u001b[38;5;241;43m=\u001b[39;49m\u001b[43mtimeout\u001b[49m\u001b[43m,\u001b[49m\u001b[43m \u001b[49m\u001b[43mapi_kwargs\u001b[49m\u001b[38;5;241;43m=\u001b[39;49m\u001b[43mapi_kwargs\u001b[49m\u001b[43m)\u001b[49m\n\u001b[0;32m    334\u001b[0m \u001b[38;5;28;01mif\u001b[39;00m result \u001b[38;5;129;01mis\u001b[39;00m \u001b[38;5;28;01mTrue\u001b[39;00m:\n\u001b[0;32m    335\u001b[0m     \u001b[38;5;28;01mreturn\u001b[39;00m result\n",
      "File \u001b[1;32m~\\miniconda3\\envs\\DataScience\\lib\\site-packages\\telegram\\bot.py:295\u001b[0m, in \u001b[0;36mBot._post\u001b[1;34m(self, endpoint, data, timeout, api_kwargs)\u001b[0m\n\u001b[0;32m    292\u001b[0m \u001b[38;5;66;03m# Drop any None values because Telegram doesn't handle them well\u001b[39;00m\n\u001b[0;32m    293\u001b[0m data \u001b[38;5;241m=\u001b[39m {key: value \u001b[38;5;28;01mfor\u001b[39;00m key, value \u001b[38;5;129;01min\u001b[39;00m data\u001b[38;5;241m.\u001b[39mitems() \u001b[38;5;28;01mif\u001b[39;00m value \u001b[38;5;129;01mis\u001b[39;00m \u001b[38;5;129;01mnot\u001b[39;00m \u001b[38;5;28;01mNone\u001b[39;00m}\n\u001b[1;32m--> 295\u001b[0m \u001b[38;5;28;01mreturn\u001b[39;00m \u001b[38;5;28;43mself\u001b[39;49m\u001b[38;5;241;43m.\u001b[39;49m\u001b[43mrequest\u001b[49m\u001b[38;5;241;43m.\u001b[39;49m\u001b[43mpost\u001b[49m\u001b[43m(\u001b[49m\n\u001b[0;32m    296\u001b[0m \u001b[43m    \u001b[49m\u001b[38;5;124;43mf\u001b[39;49m\u001b[38;5;124;43m'\u001b[39;49m\u001b[38;5;132;43;01m{\u001b[39;49;00m\u001b[38;5;28;43mself\u001b[39;49m\u001b[38;5;241;43m.\u001b[39;49m\u001b[43mbase_url\u001b[49m\u001b[38;5;132;43;01m}\u001b[39;49;00m\u001b[38;5;124;43m/\u001b[39;49m\u001b[38;5;132;43;01m{\u001b[39;49;00m\u001b[43mendpoint\u001b[49m\u001b[38;5;132;43;01m}\u001b[39;49;00m\u001b[38;5;124;43m'\u001b[39;49m\u001b[43m,\u001b[49m\u001b[43m \u001b[49m\u001b[43mdata\u001b[49m\u001b[38;5;241;43m=\u001b[39;49m\u001b[43mdata\u001b[49m\u001b[43m,\u001b[49m\u001b[43m \u001b[49m\u001b[43mtimeout\u001b[49m\u001b[38;5;241;43m=\u001b[39;49m\u001b[43meffective_timeout\u001b[49m\n\u001b[0;32m    297\u001b[0m \u001b[43m\u001b[49m\u001b[43m)\u001b[49m\n",
      "File \u001b[1;32m~\\miniconda3\\envs\\DataScience\\lib\\site-packages\\telegram\\utils\\request.py:356\u001b[0m, in \u001b[0;36mRequest.post\u001b[1;34m(self, url, data, timeout)\u001b[0m\n\u001b[0;32m    354\u001b[0m     result \u001b[38;5;241m=\u001b[39m \u001b[38;5;28mself\u001b[39m\u001b[38;5;241m.\u001b[39m_request_wrapper(\u001b[38;5;124m'\u001b[39m\u001b[38;5;124mPOST\u001b[39m\u001b[38;5;124m'\u001b[39m, url, fields\u001b[38;5;241m=\u001b[39mdata, \u001b[38;5;241m*\u001b[39m\u001b[38;5;241m*\u001b[39murlopen_kwargs)\n\u001b[0;32m    355\u001b[0m \u001b[38;5;28;01melse\u001b[39;00m:\n\u001b[1;32m--> 356\u001b[0m     result \u001b[38;5;241m=\u001b[39m \u001b[38;5;28mself\u001b[39m\u001b[38;5;241m.\u001b[39m_request_wrapper(\n\u001b[0;32m    357\u001b[0m         \u001b[38;5;124m'\u001b[39m\u001b[38;5;124mPOST\u001b[39m\u001b[38;5;124m'\u001b[39m,\n\u001b[0;32m    358\u001b[0m         url,\n\u001b[0;32m    359\u001b[0m         body\u001b[38;5;241m=\u001b[39mjson\u001b[38;5;241m.\u001b[39mdumps(data)\u001b[38;5;241m.\u001b[39mencode(\u001b[38;5;124m'\u001b[39m\u001b[38;5;124mutf-8\u001b[39m\u001b[38;5;124m'\u001b[39m),\n\u001b[0;32m    360\u001b[0m         headers\u001b[38;5;241m=\u001b[39m{\u001b[38;5;124m'\u001b[39m\u001b[38;5;124mContent-Type\u001b[39m\u001b[38;5;124m'\u001b[39m: \u001b[38;5;124m'\u001b[39m\u001b[38;5;124mapplication/json\u001b[39m\u001b[38;5;124m'\u001b[39m},\n\u001b[0;32m    361\u001b[0m         \u001b[38;5;241m*\u001b[39m\u001b[38;5;241m*\u001b[39murlopen_kwargs,\n\u001b[0;32m    362\u001b[0m     )\n\u001b[0;32m    364\u001b[0m \u001b[38;5;28;01mreturn\u001b[39;00m \u001b[38;5;28mself\u001b[39m\u001b[38;5;241m.\u001b[39m_parse(result)\n",
      "File \u001b[1;32m~\\miniconda3\\envs\\DataScience\\lib\\site-packages\\telegram\\utils\\request.py:279\u001b[0m, in \u001b[0;36mRequest._request_wrapper\u001b[1;34m(self, *args, **kwargs)\u001b[0m\n\u001b[0;32m    277\u001b[0m     \u001b[38;5;28;01mraise\u001b[39;00m Unauthorized(message)\n\u001b[0;32m    278\u001b[0m \u001b[38;5;28;01mif\u001b[39;00m resp\u001b[38;5;241m.\u001b[39mstatus \u001b[38;5;241m==\u001b[39m \u001b[38;5;241m400\u001b[39m:\n\u001b[1;32m--> 279\u001b[0m     \u001b[38;5;28;01mraise\u001b[39;00m BadRequest(message)\n\u001b[0;32m    280\u001b[0m \u001b[38;5;28;01mif\u001b[39;00m resp\u001b[38;5;241m.\u001b[39mstatus \u001b[38;5;241m==\u001b[39m \u001b[38;5;241m404\u001b[39m:\n\u001b[0;32m    281\u001b[0m     \u001b[38;5;28;01mraise\u001b[39;00m InvalidToken()\n",
      "\u001b[1;31mBadRequest\u001b[0m: Chat not found"
     ]
    }
   ],
   "source": [
    "# CHAT_ID = 994735540 #AnhDaiDo\n",
    "CHAT_ID = 7678999096 #TrongDoVan\n",
    "MESSAGE = 'Hello from python-telegram-bot 13.7! 🚀'\n",
    "telegram_bot.send_message(chat_id=CHAT_ID, text=MESSAGE)"
   ]
  },
  {
   "cell_type": "code",
   "execution_count": 7,
   "id": "d2733e49-b0c8-4a90-bc6e-ee05b1194723",
   "metadata": {},
   "outputs": [
    {
     "name": "stdout",
     "output_type": "stream",
     "text": [
      "Unique chat IDs:\n",
      "('Anh Đại', 'Đỗ', 994735540)\n",
      "('Tony', 'Stark', 5013993506)\n"
     ]
    }
   ],
   "source": [
    "updates = telegram_bot.get_updates()\n",
    "# Extract and print unique chat IDs\n",
    "chat_ids = set()\n",
    "\n",
    "for update in updates:\n",
    "    if update.message:\n",
    "        chat_id = (update.message.chat.first_name,update.message.chat.last_name,update.message.chat.id)\n",
    "        chat_ids.add(chat_id)\n",
    "\n",
    "print(\"Unique chat IDs:\")\n",
    "for cid in chat_ids:\n",
    "    print(cid)"
   ]
  },
  {
   "cell_type": "code",
   "execution_count": 15,
   "id": "e388d5e1-5e66-4f09-95bd-0c6e57f280f6",
   "metadata": {},
   "outputs": [
    {
     "name": "stdout",
     "output_type": "stream",
     "text": [
      "{'message': {'photo': [], 'text': '/start', 'message_id': 87, 'new_chat_photo': [], 'group_chat_created': False, 'delete_chat_photo': False, 'channel_chat_created': False, 'supergroup_chat_created': False, 'entities': [{'offset': 0, 'type': 'bot_command', 'length': 6}], 'chat': {'last_name': 'Stark', 'first_name': 'Tony', 'type': 'private', 'id': 5013993506}, 'caption_entities': [], 'new_chat_members': [], 'date': 1743755637, 'from': {'is_bot': False, 'language_code': 'vi', 'id': 5013993506, 'last_name': 'Stark', 'first_name': 'Tony'}}, 'update_id': 493737889}\n",
      "{'message': {'photo': [], 'text': 'He’ll', 'message_id': 88, 'new_chat_photo': [], 'group_chat_created': False, 'delete_chat_photo': False, 'channel_chat_created': False, 'supergroup_chat_created': False, 'entities': [], 'chat': {'last_name': 'Stark', 'first_name': 'Tony', 'type': 'private', 'id': 5013993506}, 'caption_entities': [], 'new_chat_members': [], 'date': 1743755644, 'from': {'is_bot': False, 'language_code': 'vi', 'id': 5013993506, 'last_name': 'Stark', 'first_name': 'Tony'}}, 'update_id': 493737890}\n",
      "{'message': {'photo': [], 'text': 'hello', 'message_id': 90, 'new_chat_photo': [], 'group_chat_created': False, 'delete_chat_photo': False, 'channel_chat_created': False, 'supergroup_chat_created': False, 'entities': [], 'chat': {'last_name': 'Đỗ', 'first_name': 'Anh Đại', 'type': 'private', 'id': 994735540}, 'caption_entities': [], 'new_chat_members': [], 'date': 1743756007, 'from': {'is_bot': False, 'language_code': 'en', 'id': 994735540, 'last_name': 'Đỗ', 'first_name': 'Anh Đại'}}, 'update_id': 493737891}\n"
     ]
    }
   ],
   "source": [
    "for update in updates:\n",
    "    print(update)"
   ]
  },
  {
   "cell_type": "code",
   "execution_count": null,
   "id": "f1227921-65b8-4afa-a28d-00a7d3829efd",
   "metadata": {},
   "outputs": [],
   "source": []
  }
 ],
 "metadata": {
  "kernelspec": {
   "display_name": "Python 3 (ipykernel)",
   "language": "python",
   "name": "python3"
  },
  "language_info": {
   "codemirror_mode": {
    "name": "ipython",
    "version": 3
   },
   "file_extension": ".py",
   "mimetype": "text/x-python",
   "name": "python",
   "nbconvert_exporter": "python",
   "pygments_lexer": "ipython3",
   "version": "3.10.13"
  }
 },
 "nbformat": 4,
 "nbformat_minor": 5
}
